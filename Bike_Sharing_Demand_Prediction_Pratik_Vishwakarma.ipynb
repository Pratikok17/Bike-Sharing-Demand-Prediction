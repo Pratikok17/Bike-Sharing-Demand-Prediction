{
  "cells": [
    {
      "cell_type": "markdown",
      "metadata": {
        "id": "view-in-github",
        "colab_type": "text"
      },
      "source": [
        "<a href=\"https://colab.research.google.com/github/Pratikok17/Bike-Sharing-Demand-Prediction/blob/main/Bike_Sharing_Demand_Prediction_Pratik_Vishwakarma.ipynb\" target=\"_parent\"><img src=\"https://colab.research.google.com/assets/colab-badge.svg\" alt=\"Open In Colab\"/></a>"
      ]
    },
    {
      "cell_type": "markdown",
      "metadata": {
        "id": "tOGC-qoyhJeX"
      },
      "source": [
        "# <b><u> Project Title : Bike Sharing Demand Prediction </u></b>"
      ]
    },
    {
      "cell_type": "markdown",
      "metadata": {
        "id": "Y06xIdG26kRF"
      },
      "source": [
        "## <b> Problem Description </b>\n",
        "\n",
        "### Currently Rental bikes are introduced in many urban cities for the enhancement of mobility comfort. It is important to make the rental bike available and accessible to the public at the right time as it lessens the waiting time. Eventually, providing the city with a stable supply of rental bikes becomes a major concern. The crucial part is the prediction of bike count required at each hour for the stable supply of rental bikes.\n"
      ]
    },
    {
      "cell_type": "markdown",
      "metadata": {
        "id": "AlLxAtlziMbP"
      },
      "source": [
        "## <b> Data Description </b>\n",
        "\n",
        "### <b> The dataset contains weather information (Temperature, Humidity, Windspeed, Visibility, Dewpoint, Solar radiation, Snowfall, Rainfall), the number of bikes rented per hour and date information.</b>\n",
        "\n",
        "\n",
        "### <b>Attribute Information: </b>\n",
        "\n",
        "* ### Date : year-month-day\n",
        "* ### Rented Bike count - Count of bikes rented at each hour\n",
        "* ### Hour - Hour of he day\n",
        "* ### Temperature-Temperature in Celsius\n",
        "* ### Humidity - %\n",
        "* ### Windspeed - m/s\n",
        "* ### Visibility - 10m\n",
        "* ### Dew point temperature - Celsius\n",
        "* ### Solar radiation - MJ/m2\n",
        "* ### Rainfall - mm\n",
        "* ### Snowfall - cm\n",
        "* ### Seasons - Winter, Spring, Summer, Autumn\n",
        "* ### Holiday - Holiday/No holiday\n",
        "* ### Functional Day - NoFunc(Non Functional Hours), Fun(Functional hours)"
      ]
    },
    {
      "cell_type": "markdown",
      "metadata": {
        "id": "-lcMmVQDG0jX"
      },
      "source": [
        "**Importing Modules**\n",
        "\n"
      ]
    },
    {
      "cell_type": "code",
      "execution_count": null,
      "metadata": {
        "id": "dByMsuzT8Tnw"
      },
      "outputs": [],
      "source": [
        "# Importing required libraries\n",
        "import pandas as pd\n",
        "import numpy as np\n",
        "import seaborn as sns\n",
        "import matplotlib.pyplot as plt\n",
        "import math\n",
        "import sklearn\n",
        "from sklearn.model_selection import train_test_split\n",
        "from sklearn.preprocessing import MinMaxScaler,StandardScaler\n",
        "from sklearn.ensemble import RandomForestRegressor,GradientBoostingRegressor\n",
        "from sklearn.linear_model import Ridge, LinearRegression\n",
        "from sklearn.svm import SVR\n",
        "from sklearn.metrics import r2_score,mean_squared_error\n",
        "from sklearn.tree import DecisionTreeRegressor\n",
        "from xgboost import XGBRegressor\n",
        "from sklearn.model_selection import GridSearchCV\n",
        "from sklearn.ensemble import StackingRegressor\n",
        "\n",
        "%matplotlib inline"
      ]
    },
    {
      "cell_type": "markdown",
      "metadata": {
        "id": "zoRWbiafHZ06"
      },
      "source": [
        "**looading the dataset**"
      ]
    },
    {
      "cell_type": "code",
      "execution_count": null,
      "metadata": {
        "id": "AIYwrsQUHr0P"
      },
      "outputs": [],
      "source": [
        "#let's mount the google drive for import the dtaset\n",
        "from google.colab import drive\n",
        "drive.mount('/content/drive')"
      ]
    },
    {
      "cell_type": "code",
      "execution_count": null,
      "metadata": {
        "id": "7ZUsR9bbG6ue"
      },
      "outputs": [],
      "source": [
        "df = pd.read_csv('/content/drive/MyDrive/Bike Sharing Demand Prediction -Apoorva KR/SeoulBikeData.csv', encoding= 'unicode_escape')"
      ]
    },
    {
      "cell_type": "code",
      "execution_count": null,
      "metadata": {
        "id": "mComkuDiG6xR"
      },
      "outputs": [],
      "source": [
        "# Viewing the data of top 5 rows\n",
        "df.head()"
      ]
    },
    {
      "cell_type": "code",
      "execution_count": null,
      "metadata": {
        "id": "9Xb8GglnJ776"
      },
      "outputs": [],
      "source": [
        "# View the data of bottom 5 rows\n",
        "df.tail()"
      ]
    },
    {
      "cell_type": "code",
      "execution_count": null,
      "metadata": {
        "id": "BAoPEHSqJ8HO"
      },
      "outputs": [],
      "source": [
        "#Getting the shape of dataset with rows and columns\n",
        "print(df.shape)\n"
      ]
    },
    {
      "cell_type": "code",
      "execution_count": null,
      "metadata": {
        "id": "WsoKBpjlKKMx"
      },
      "outputs": [],
      "source": [
        "#check details about the data set\n",
        "df.info()"
      ]
    },
    {
      "cell_type": "code",
      "execution_count": null,
      "metadata": {
        "id": "XQI0Kj8DKKY4"
      },
      "outputs": [],
      "source": [
        "#Looking for the description of the dataset\n",
        "df.describe()"
      ]
    },
    {
      "cell_type": "code",
      "execution_count": null,
      "metadata": {
        "id": "-HxcM0cFKKcL"
      },
      "outputs": [],
      "source": [
        "#Getting all the columns\n",
        "df.columns"
      ]
    },
    {
      "cell_type": "markdown",
      "metadata": {
        "id": "OKVhhQzkK0ad"
      },
      "source": [
        "there are 14 columns"
      ]
    },
    {
      "cell_type": "code",
      "execution_count": null,
      "metadata": {
        "id": "uht7JezLPEOw"
      },
      "outputs": [],
      "source": [
        "# finding total no of rows in dataset\n",
        "print(\"The no of rows in the dataset is \",len(df))"
      ]
    },
    {
      "cell_type": "markdown",
      "source": [
        "# **preprocessing the dataset**\n"
      ],
      "metadata": {
        "id": "35Kg4c-ZgVlq"
      }
    },
    {
      "cell_type": "markdown",
      "metadata": {
        "id": "lGsE8vumLD2o"
      },
      "source": [
        "**Checking for null values**"
      ]
    },
    {
      "cell_type": "code",
      "execution_count": null,
      "metadata": {
        "id": "wT5X2kZpKKfj"
      },
      "outputs": [],
      "source": [
        "#count of missing values in each column.\n",
        "df.isna().sum()"
      ]
    },
    {
      "cell_type": "markdown",
      "metadata": {
        "id": "0RHUYSBoLvpU"
      },
      "source": [
        "that there is no null values is our data."
      ]
    },
    {
      "cell_type": "markdown",
      "metadata": {
        "id": "K4O79P_sPyuG"
      },
      "source": [
        "**checking duplicate values**"
      ]
    },
    {
      "cell_type": "code",
      "execution_count": null,
      "metadata": {
        "id": "0Pn-lpJOLeio"
      },
      "outputs": [],
      "source": [
        "# Checking Duplicate Values\n",
        "duplicates =len(df[df.duplicated()])\n",
        "print(duplicates)"
      ]
    },
    {
      "cell_type": "markdown",
      "metadata": {
        "id": "L2hcKF94Pt2_"
      },
      "source": [
        "there are no duplicate values\n"
      ]
    },
    {
      "cell_type": "markdown",
      "metadata": {
        "id": "2qqv7kdMSvt2"
      },
      "source": [
        "**convert the \"date\" column into 3 different columns i.e \"year\",\"month\",\"day\"**"
      ]
    },
    {
      "cell_type": "code",
      "execution_count": null,
      "metadata": {
        "id": "S1RgqR72dIBk"
      },
      "outputs": [],
      "source": [
        "import datetime as dt\n",
        "df['date'] = df['Date'].apply(lambda x: dt.datetime.strptime(x,\"%d/%m/%Y\"))"
      ]
    },
    {
      "cell_type": "code",
      "execution_count": null,
      "metadata": {
        "id": "RIPPmjc7dgQs"
      },
      "outputs": [],
      "source": [
        "df['year'] = df['date'].dt.year\n",
        "df['month'] = df['date'].dt.month\n",
        "\n",
        "df['day'] = df['date'].dt.day_name()\n"
      ]
    },
    {
      "cell_type": "code",
      "execution_count": null,
      "metadata": {
        "id": "ECDpPiHBQMV1"
      },
      "outputs": [],
      "source": [
        "#creating a new column of \"weekdays_weekend\" and drop the column \"Date\",\"day\",\"year\"\n",
        "df['week']=df['day'].apply(lambda x : \"weekend\" if x=='Saturday' or x=='Sunday' else \"weekday\" )\n"
      ]
    },
    {
      "cell_type": "code",
      "execution_count": null,
      "metadata": {
        "id": "afkeCFOpRvwP"
      },
      "outputs": [],
      "source": [
        "# checking no of years\n",
        "df['week'].value_counts()"
      ]
    },
    {
      "cell_type": "code",
      "execution_count": null,
      "metadata": {
        "id": "LbsPuo0mhYUS"
      },
      "outputs": [],
      "source": [
        "df=df.drop(columns=['date','day','year'],axis=1)"
      ]
    },
    {
      "cell_type": "code",
      "source": [
        "df.head()"
      ],
      "metadata": {
        "id": "H5WiwPiSeuot"
      },
      "execution_count": null,
      "outputs": []
    },
    {
      "cell_type": "markdown",
      "source": [
        "So I convert the \"date\" column into 3 different column i.e \"year\",\"month\",\"day\".\n",
        "The \"year\" column in our data set is basically contain the 2 unique number contains the details of from 2017 december to 2018 november so if i consider this is a one year then we don't need the \"year\" column so we drop it.\n",
        "The other column \"day\", it contains the details about the each day of the month, for our relevence we don't need each day of each month data but we need the data about, if a day is a weekday or a weekend so we convert it into this format and drop the \"day\" column."
      ],
      "metadata": {
        "id": "7_ZRvznceoeV"
      }
    },
    {
      "cell_type": "code",
      "source": [
        "#Change the int64 column into catagory column\n",
        "cols=['Hour','month','week']\n",
        "for col in cols:\n",
        "  df[col]=df[col].astype('category')"
      ],
      "metadata": {
        "id": "x-fj-RlBgQMn"
      },
      "execution_count": null,
      "outputs": []
    },
    {
      "cell_type": "code",
      "source": [
        "df.info()"
      ],
      "metadata": {
        "id": "xEvQsFLfgQp9"
      },
      "execution_count": null,
      "outputs": []
    },
    {
      "cell_type": "code",
      "execution_count": null,
      "metadata": {
        "id": "slR3etQNhIKa"
      },
      "outputs": [],
      "source": [
        "#Heatmap for co-relation in features\n",
        "plt.figure(figsize=(15, 8))\n",
        "sns.heatmap(df.corr(), annot=True, cmap='coolwarm')\n",
        "plt.title('Correlation between all the vaibles', size=16)\n",
        "plt.show()"
      ]
    },
    {
      "cell_type": "markdown",
      "source": [
        "From the above experiment i can conclude that Temperature and Dew point temperature(°C) has the high correlation . we drop this column then it dont affects the outcome of our analysis"
      ],
      "metadata": {
        "id": "aFSDHOCqkN8E"
      }
    },
    {
      "cell_type": "code",
      "execution_count": null,
      "metadata": {
        "id": "JGt2MEJShIS2"
      },
      "outputs": [],
      "source": [
        "df.drop(columns= ['Dew point temperature(°C)'], inplace=True)"
      ]
    },
    {
      "cell_type": "markdown",
      "source": [
        "# removing outliers"
      ],
      "metadata": {
        "id": "gsDrVbuSg14R"
      }
    },
    {
      "cell_type": "code",
      "execution_count": null,
      "metadata": {
        "id": "iRVbE4YkoiC_"
      },
      "outputs": [],
      "source": [
        "# looking for outliers using box plot\n",
        "plt.figure(figsize=(10,10))\n",
        "for index,item in enumerate([i for i in df.describe().columns.to_list() if i not in ['Rainfall(mm)','Snowfall (cm)']]):\n",
        "  plt.subplot(3,4,index+1)\n",
        "  sns.boxplot(df[item])"
      ]
    },
    {
      "cell_type": "code",
      "source": [
        "# finding the inter-quartile range\n",
        "\n",
        "Q1 = df.quantile(0.25)\n",
        "Q3 = df.quantile(0.75)\n",
        "IQR = Q3 - Q1\n",
        "print(IQR)"
      ],
      "metadata": {
        "id": "UUP68BnsoZ7j"
      },
      "execution_count": null,
      "outputs": []
    },
    {
      "cell_type": "code",
      "source": [
        "# listing features to remove outliers\n",
        "\n",
        "features = list(df.columns)\n",
        "features = features[2:]\n",
        "list_0 = ['Hour','Seasons','Holiday','Functioning Day','month','year','week']\n",
        "new_features = [x for x in features if x not in list_0]"
      ],
      "metadata": {
        "id": "QFcIAMt8oZ-0"
      },
      "execution_count": null,
      "outputs": []
    },
    {
      "cell_type": "code",
      "source": [
        "new_features"
      ],
      "metadata": {
        "id": "iS5k5jIsoaKZ"
      },
      "execution_count": null,
      "outputs": []
    },
    {
      "cell_type": "code",
      "source": [
        "# removing outliers\n",
        "\n",
        "df[new_features] = df[new_features][~((df[new_features] < (Q1 - 1.5 * IQR)) |(df[new_features] > (Q3 + 1.5 * IQR))).any(axis=1)]"
      ],
      "metadata": {
        "id": "Pdxs2TM5o_Xi"
      },
      "execution_count": null,
      "outputs": []
    },
    {
      "cell_type": "code",
      "source": [
        "df.info()"
      ],
      "metadata": {
        "id": "AdloX96Zo_fA"
      },
      "execution_count": null,
      "outputs": []
    },
    {
      "cell_type": "markdown",
      "metadata": {
        "id": "CbjZWybkoyNd"
      },
      "source": [
        "# handling Null values"
      ]
    },
    {
      "cell_type": "code",
      "source": [
        "# filling null values with mean values\n",
        "\n",
        "df['Temperature(°C)'] = df['Temperature(°C)'].fillna(df['Temperature(°C)'].mean())\n",
        "df['Humidity(%)'] = df['Humidity(%)'].fillna(df['Humidity(%)'].mean())\n",
        "df['Wind speed (m/s)'] = df['Wind speed (m/s)'].fillna(df['Wind speed (m/s)'].mean())\n",
        "df['Visibility (10m)'] = df['Visibility (10m)'].fillna(df['Visibility (10m)'].mean())\n",
        "\n",
        "df['Solar Radiation (MJ/m2)'] = df['Solar Radiation (MJ/m2)'].fillna(df['Solar Radiation (MJ/m2)'].mean())\n",
        "df['Rainfall(mm)'] = df['Rainfall(mm)'].fillna(df['Rainfall(mm)'].mean())\n",
        "df['Snowfall (cm)'] = df['Snowfall (cm)'].fillna(df['Snowfall (cm)'].mean())"
      ],
      "metadata": {
        "id": "uZKLpq2QqfCA"
      },
      "execution_count": null,
      "outputs": []
    },
    {
      "cell_type": "code",
      "source": [
        "df.info()"
      ],
      "metadata": {
        "id": "R6tcpwajrOGI"
      },
      "execution_count": null,
      "outputs": []
    },
    {
      "cell_type": "code",
      "execution_count": null,
      "metadata": {
        "id": "bipL2znXiPvd"
      },
      "outputs": [],
      "source": [
        "#Heatmap for co-relation in features\n",
        "plt.figure(figsize=(15, 8))\n",
        "sns.heatmap(df.corr(), annot=True, cmap='coolwarm')\n",
        "plt.title('Correlation between all the vaibles', size=16)\n",
        "plt.show()"
      ]
    },
    {
      "cell_type": "markdown",
      "metadata": {
        "id": "k_X3Iv5SN4ai"
      },
      "source": [
        "# performing EDA"
      ]
    },
    {
      "cell_type": "markdown",
      "source": [
        "**categorical variables**"
      ],
      "metadata": {
        "id": "pixPFmP7joZ0"
      }
    },
    {
      "cell_type": "markdown",
      "metadata": {
        "id": "XqjD4823O9NL"
      },
      "source": [
        "**Month**\n",
        "\n",
        "\n"
      ]
    },
    {
      "cell_type": "code",
      "execution_count": null,
      "metadata": {
        "id": "SmXFG1fPia9W"
      },
      "outputs": [],
      "source": [
        "#anlysis of data by vizualisation\n",
        "fig,ax=plt.subplots(figsize=(10,5))\n",
        "sns.barplot(data=df,x='month',y='Rented Bike Count',ax=ax,capsize=.2)\n",
        "ax.set(title='Count of Rented bikes acording to Month ')"
      ]
    },
    {
      "cell_type": "markdown",
      "metadata": {
        "id": "EKYU5zDKPYTr"
      },
      "source": [
        "From the above bar plot we can clearly say that from the month 5 to 10 the demand of the rented bike is high as compare to other months"
      ]
    },
    {
      "cell_type": "markdown",
      "source": [
        "**week**"
      ],
      "metadata": {
        "id": "uUctYK6OhWGS"
      }
    },
    {
      "cell_type": "code",
      "execution_count": null,
      "metadata": {
        "id": "KHMFGY5PQyv-"
      },
      "outputs": [],
      "source": [
        "#anlysis of data by vizualisation\n",
        "fig,ax=plt.subplots(figsize=(10,8))\n",
        "sns.barplot(data=df,x='week',y='Rented Bike Count',ax=ax,capsize=.2)\n",
        "ax.set(title='Count of Rented bikes acording to weekdays_weekenday ')"
      ]
    },
    {
      "cell_type": "code",
      "execution_count": null,
      "metadata": {
        "id": "U_sEfAfAPPxU"
      },
      "outputs": [],
      "source": [
        "#anlysis of data by vizualisation\n",
        "fig,ax=plt.subplots(figsize=(20,8))\n",
        "sns.pointplot(data=df,x='Hour',y='Rented Bike Count',hue='week',ax=ax)\n",
        "ax.set(title='Count of Rented bikes acording to weekdays_weekend ')"
      ]
    },
    {
      "cell_type": "markdown",
      "metadata": {
        "id": "2OXQbVC7Sfdx"
      },
      "source": [
        "From the above point plot and bar plot we can say that in the week days which represent in blue colur show that the demand of the bike higher because of the office. Peak Time are 7 am to 9 am and 5 pm to 7 pm The orange colur represent the weekend days, and it show that the demand of rented bikes are very low specially in the morning hour but when the evening start from 4 pm to 8 pm the demand slightly increases"
      ]
    },
    {
      "cell_type": "markdown",
      "metadata": {
        "id": "fmQae0G7ShAT"
      },
      "source": [
        "**Functioning day**"
      ]
    },
    {
      "cell_type": "code",
      "execution_count": null,
      "metadata": {
        "id": "-B8ZjtwIWLYG"
      },
      "outputs": [],
      "source": [
        "#anlysis of data by vizualisation\n",
        "fig,ax=plt.subplots(figsize=(10,8))\n",
        "sns.barplot(data=df,x='Functioning Day',y='Rented Bike Count',ax=ax,capsize=.2)\n",
        "ax.set(title='Count of Rented bikes acording to Functioning Day ')"
      ]
    },
    {
      "cell_type": "code",
      "execution_count": null,
      "metadata": {
        "id": "VJXzitKISmXb"
      },
      "outputs": [],
      "source": [
        "#anlysis of data by vizualisation\n",
        "fig,ax=plt.subplots(figsize=(20,8))\n",
        "sns.pointplot(data=df,x='Hour',y='Rented Bike Count',hue='Functioning Day',ax=ax)\n",
        "ax.set(title='Count of Rented bikes acording to Functioning Day ')"
      ]
    },
    {
      "cell_type": "markdown",
      "metadata": {
        "id": "9JqKfiwxTD3K"
      },
      "source": [
        "In the above bar plot and point plot which shows the use of rented bike in functioning day or not, and it clearly shows that,\n",
        "Peoples dont use reneted bikes in no functioning day"
      ]
    },
    {
      "cell_type": "markdown",
      "metadata": {
        "id": "CPBZYfBLTJHW"
      },
      "source": [
        "**seasons**"
      ]
    },
    {
      "cell_type": "code",
      "execution_count": null,
      "metadata": {
        "id": "piPjdX5oSmc9"
      },
      "outputs": [],
      "source": [
        "#anlysis of data by vizualisation\n",
        "fig,ax=plt.subplots(figsize=(15,8))\n",
        "sns.boxplot(data=df,x='Seasons',y='Rented Bike Count',ax=ax)\n",
        "ax.set(title='Count of Rented bikes acording to Seasons ')"
      ]
    },
    {
      "cell_type": "code",
      "execution_count": null,
      "metadata": {
        "id": "ZMf_a319VDLl"
      },
      "outputs": [],
      "source": [
        "#anlysis of data by vizualisation\n",
        "fig,ax=plt.subplots(figsize=(15,8))\n",
        "sns.barplot(data=df,x='Seasons',y='Rented Bike Count',ax=ax,capsize=.2)\n",
        "ax.set(title='Count of Rented bikes acording to Seasons ')"
      ]
    },
    {
      "cell_type": "markdown",
      "metadata": {
        "id": "PaPCZBiCTnrC"
      },
      "source": [
        "In the above box plot and bar plot which shows the use of rented bike in in four different seasons, and it clearly shows that,\n",
        "In summer season the use of rented bike is high\n",
        "In winter season the use of rented bike is very low because of snowfall."
      ]
    },
    {
      "cell_type": "markdown",
      "metadata": {
        "id": "InOUTs5hTv4u"
      },
      "source": [
        "**Holiday**"
      ]
    },
    {
      "cell_type": "code",
      "execution_count": null,
      "metadata": {
        "id": "rINTA19VSmgm"
      },
      "outputs": [],
      "source": [
        "df.groupby('Holiday').sum()['Rented Bike Count'].plot.pie(radius=1)"
      ]
    },
    {
      "cell_type": "code",
      "execution_count": null,
      "metadata": {
        "id": "feEWU0-LW1se"
      },
      "outputs": [],
      "source": [
        "#anlysis of data by vizualisation\n",
        "fig,ax=plt.subplots(figsize=(20,8))\n",
        "sns.pointplot(data=df,x='Hour',y='Rented Bike Count',hue='Holiday',ax=ax)\n",
        "ax.set(title='Count of Rented bikes acording to Holiday ')"
      ]
    },
    {
      "cell_type": "markdown",
      "metadata": {
        "id": "9iGxvMVpTkdU"
      },
      "source": [
        "In the above pie plot and point plot which shows the use of rented bike in a holiday, and it clearly shows that,\n",
        "plot shows that in holiday people uses the rented bike from 2pm-8pm"
      ]
    },
    {
      "cell_type": "markdown",
      "source": [
        "**Analysis of numerical variables**"
      ],
      "metadata": {
        "id": "bwBUPkKwjALo"
      }
    },
    {
      "cell_type": "code",
      "execution_count": null,
      "metadata": {
        "id": "34ZhBRa_jSXD"
      },
      "outputs": [],
      "source": [
        "numerical_columns=['Rented Bike Count','Temperature(°C)','Humidity(%)',\t'Wind speed (m/s)',\t'Visibility (10m)',\t'Solar Radiation (MJ/m2)'\t,'Rainfall(mm)'\t,'Snowfall (cm)']"
      ]
    },
    {
      "cell_type": "code",
      "execution_count": null,
      "metadata": {
        "id": "Te6B18h8ia6C"
      },
      "outputs": [],
      "source": [
        "# checking the distribution\n",
        "plt.figure(figsize=(10,10))\n",
        "for index,item in enumerate(numerical_columns):\n",
        "  plt.subplot(3,3,index+1)\n",
        "  sns.distplot(df[item])"
      ]
    },
    {
      "cell_type": "code",
      "source": [
        "# creating a dataframe containing the count of bikes rented in different temperature\n",
        "\n",
        "df_temp = pd.DataFrame(df.groupby('Temperature(°C)')['Rented Bike Count'].sum())\n",
        "df_temp.reset_index(inplace=True)"
      ],
      "metadata": {
        "id": "oMLPOF0qbW1F"
      },
      "execution_count": null,
      "outputs": []
    },
    {
      "cell_type": "code",
      "source": [
        "# plot showing distribution of bike rentals according to temperature intensity\n",
        "\n",
        "plt.figure(figsize=(8,6))\n",
        "sns.distplot(df_temp['Temperature(°C)'])"
      ],
      "metadata": {
        "id": "LcndlgmxbXHu"
      },
      "execution_count": null,
      "outputs": []
    },
    {
      "cell_type": "markdown",
      "source": [
        "\n",
        "Above plot shows that people tend to rent bikes when the temperature is between -5 to 25 degrees."
      ],
      "metadata": {
        "id": "x0pvl7SScsvH"
      }
    },
    {
      "cell_type": "code",
      "source": [
        "# creating a dataframe containing the count of bikes rented in differant visibility ranges\n",
        "\n",
        "df_visi = pd.DataFrame(df.groupby('Visibility (10m)')['Rented Bike Count'].sum())\n",
        "df_visi.reset_index(inplace=True)"
      ],
      "metadata": {
        "id": "2EN59F8Dcylz"
      },
      "execution_count": null,
      "outputs": []
    },
    {
      "cell_type": "code",
      "source": [
        "plt.figure(figsize=(8,6))\n",
        "sns.distplot(df_visi['Visibility (10m)'])"
      ],
      "metadata": {
        "id": "H0sDFHquc7L7"
      },
      "execution_count": null,
      "outputs": []
    },
    {
      "cell_type": "markdown",
      "source": [
        "Above plot shows that people tend to rent bikes when the visibility is between 300 to 1700."
      ],
      "metadata": {
        "id": "yYNoIAUmc_Kn"
      }
    },
    {
      "cell_type": "markdown",
      "source": [
        "**Label Encoding**"
      ],
      "metadata": {
        "id": "4tcRlQpQtaFV"
      }
    },
    {
      "cell_type": "code",
      "source": [
        "# creating dummy variables for categorical feature --> Seasons, month, DayOfWeek, year, fuctioning day, holiday\n",
        "\n",
        "seasons = pd.get_dummies(df['Seasons'])\n",
        "\n",
        "working_day = pd.get_dummies(df['Holiday'])\n",
        "\n",
        "F_day = pd.get_dummies(df['Functioning Day'])\n",
        "\n",
        "month = pd.get_dummies(df['month'])\n",
        "\n",
        "week_day = pd.get_dummies(df['week'])\n",
        "\n"
      ],
      "metadata": {
        "id": "njAantJotIXT"
      },
      "execution_count": null,
      "outputs": []
    },
    {
      "cell_type": "code",
      "source": [
        "df = pd.concat([df,seasons,working_day,F_day,month,week_day],axis=1)\n"
      ],
      "metadata": {
        "id": "TSvmduTXtIod"
      },
      "execution_count": null,
      "outputs": []
    },
    {
      "cell_type": "code",
      "source": [
        "# checking the data dummy variable is created or not\n",
        "\n",
        "df.head()"
      ],
      "metadata": {
        "id": "aUjV5wCBtSxr"
      },
      "execution_count": null,
      "outputs": []
    },
    {
      "cell_type": "code",
      "source": [
        "## dropping columns for which dummy variables were created\n",
        "\n",
        "df.drop(['Seasons','Holiday','Functioning Day','week','month'],axis=1,inplace=True)\n"
      ],
      "metadata": {
        "id": "l2MBSUfduqax"
      },
      "execution_count": null,
      "outputs": []
    },
    {
      "cell_type": "code",
      "source": [
        "df.drop(['Date'],axis=1,inplace=True) # droping date because we already extract the date from the data\n"
      ],
      "metadata": {
        "id": "5SRzhYvfu6lU"
      },
      "execution_count": null,
      "outputs": []
    },
    {
      "cell_type": "markdown",
      "source": [
        "**checking multicollinearity**"
      ],
      "metadata": {
        "id": "Idhwyq_MkAVf"
      }
    },
    {
      "cell_type": "code",
      "execution_count": null,
      "metadata": {
        "id": "LI_hLyj4iZ7g"
      },
      "outputs": [],
      "source": [
        "# function to calculate Multicollinearity\n",
        "\n",
        "# checking the vif\n",
        "from statsmodels.stats.outliers_influence import variance_inflation_factor\n",
        "X = df\n",
        "\n",
        "\n",
        "# VIF dataframe\n",
        "vif_data = pd.DataFrame()\n",
        "vif_data[\"feature\"] = X.columns\n",
        "\n",
        "# calculating VIF for each feature\n",
        "vif_data[\"VIF\"] = [variance_inflation_factor(X.values, i)\n",
        "                          for i in range(len(X.columns))]\n",
        "vif_data['VIF'] = round(vif_data['VIF'],2)\n",
        "\n",
        "\n",
        "print(vif_data)"
      ]
    },
    {
      "cell_type": "code",
      "source": [
        "df=df.drop(['Rainfall(mm)','Snowfall (cm)'],axis=1)"
      ],
      "metadata": {
        "id": "yu0zyAcHvW_Z"
      },
      "execution_count": null,
      "outputs": []
    },
    {
      "cell_type": "markdown",
      "source": [
        "**Regression plot**"
      ],
      "metadata": {
        "id": "bUvRQ0dKsaXu"
      }
    },
    {
      "cell_type": "code",
      "source": [
        "numerical_columns=['Rented Bike Count','Temperature(°C)','Humidity(%)',\t'Wind speed (m/s)',\t'Visibility (10m)',\t'Solar Radiation (MJ/m2)'\t]"
      ],
      "metadata": {
        "id": "JrDyhTwUvvtZ"
      },
      "execution_count": null,
      "outputs": []
    },
    {
      "cell_type": "code",
      "execution_count": null,
      "metadata": {
        "id": "5URhi1hIXUA6"
      },
      "outputs": [],
      "source": [
        "#printing the regression plot for all the numerical features\n",
        "for col in numerical_columns:\n",
        "  fig,ax=plt.subplots(figsize=(10,6))\n",
        "  sns.regplot(x=df[col],y=df['Rented Bike Count'],scatter_kws={\"color\": 'orange'}, line_kws={\"color\": \"black\"})\n"
      ]
    },
    {
      "cell_type": "markdown",
      "source": [
        "Temperature,solar radiation,windspeed,visibility  are positively related to target variable ,the rented bike count increases with increase of these features"
      ],
      "metadata": {
        "id": "eLR1Pxe303jW"
      }
    },
    {
      "cell_type": "code",
      "execution_count": null,
      "metadata": {
        "id": "22_IKaVfhpLD"
      },
      "outputs": [],
      "source": [
        "#Assign the value in X and Y\n",
        "X = df.drop(columns=['Rented Bike Count'], axis=1)\n",
        "y = np.sqrt(df['Rented Bike Count'])"
      ]
    },
    {
      "cell_type": "code",
      "execution_count": null,
      "metadata": {
        "id": "4csYMY_phpR5"
      },
      "outputs": [],
      "source": [
        "X.head()\n",
        "\n"
      ]
    },
    {
      "cell_type": "code",
      "execution_count": null,
      "metadata": {
        "id": "Vk_yZ8n7kMk5"
      },
      "outputs": [],
      "source": [
        "y.head()"
      ]
    },
    {
      "cell_type": "code",
      "execution_count": null,
      "metadata": {
        "id": "c3VgJ1T_ivJn"
      },
      "outputs": [],
      "source": [
        "#Creat test and train data\n",
        "from sklearn.model_selection import train_test_split\n",
        "X_train, X_test, y_train, y_test = train_test_split(X,y, test_size=0.25, random_state=0)\n",
        "print(X_train.shape)\n",
        "print(X_test.shape)"
      ]
    },
    {
      "cell_type": "code",
      "execution_count": null,
      "metadata": {
        "id": "61G6ekzanr5j"
      },
      "outputs": [],
      "source": [
        "# standardizing the independent variables\n",
        "scaler=StandardScaler()\n",
        "X_train=scaler.fit_transform(X_train)\n",
        "X_test=scaler.fit_transform(X_test)"
      ]
    },
    {
      "cell_type": "code",
      "source": [],
      "metadata": {
        "id": "--rEYNih4fMh"
      },
      "execution_count": null,
      "outputs": []
    },
    {
      "cell_type": "markdown",
      "source": [
        "# Linear regression model"
      ],
      "metadata": {
        "id": "qO-skBTXlH55"
      }
    },
    {
      "cell_type": "code",
      "execution_count": null,
      "metadata": {
        "id": "2PSnfTggivMz"
      },
      "outputs": [],
      "source": [
        "#import the packages\n",
        "from sklearn.linear_model import LinearRegression\n",
        "reg= LinearRegression().fit(X_train, y_train)"
      ]
    },
    {
      "cell_type": "code",
      "execution_count": null,
      "metadata": {
        "id": "hVensay4ivTs"
      },
      "outputs": [],
      "source": [
        "#check the score\n",
        "reg.score(X_train, y_train)"
      ]
    },
    {
      "cell_type": "code",
      "execution_count": null,
      "metadata": {
        "id": "OKmnjVW7mhoJ"
      },
      "outputs": [],
      "source": [
        "#check the coefficeint\n",
        "reg.coef_"
      ]
    },
    {
      "cell_type": "code",
      "execution_count": null,
      "metadata": {
        "id": "HW52HOkumhrn"
      },
      "outputs": [],
      "source": [
        "#get the X_train and X-test value\n",
        "y_pred_train=reg.predict(X_train)\n",
        "y_pred_test=reg.predict(X_test)"
      ]
    },
    {
      "cell_type": "code",
      "source": [
        "y_pred_test"
      ],
      "metadata": {
        "id": "Lbhcsy_HwcWq"
      },
      "execution_count": null,
      "outputs": []
    },
    {
      "cell_type": "code",
      "execution_count": null,
      "metadata": {
        "id": "ibqmwkLwmhw5"
      },
      "outputs": [],
      "source": [
        "#import the packages\n",
        "from sklearn.metrics import mean_squared_error\n",
        "from sklearn.metrics import mean_absolute_error\n",
        "#calculate MSE\n",
        "MSE_lr= mean_squared_error((y_train), (y_pred_train))\n",
        "print(\"MSE :\",MSE_lr)\n",
        "\n",
        "#calculate RMSE\n",
        "RMSE_lr=np.sqrt(MSE_lr)\n",
        "print(\"RMSE :\",RMSE_lr)\n",
        "\n",
        "\n",
        "#calculate MAE\n",
        "MAE_lr= mean_absolute_error(y_train, y_pred_train)\n",
        "print(\"MAE :\",MAE_lr)\n",
        "\n",
        "\n",
        "\n",
        "#import the packages\n",
        "from sklearn.metrics import r2_score\n",
        "#calculate r2 and adjusted r2\n",
        "r2_lr= r2_score(y_train, y_pred_train)\n",
        "print(\"R2 :\",r2_lr)\n",
        "Adjusted_R2_lr = (1-(1-r2_score(y_train, y_pred_train))*((X_test.shape[0]-1)/(X_test.shape[0]-X_test.shape[1]-1)) )\n",
        "\n",
        "print(\"Adjusted R2 :\",Adjusted_R2_lr)"
      ]
    },
    {
      "cell_type": "markdown",
      "source": [
        "# linear regression with L2 regularization"
      ],
      "metadata": {
        "id": "Pp_Zrrzrlpp7"
      }
    },
    {
      "cell_type": "code",
      "execution_count": null,
      "metadata": {
        "id": "VVJ9umQFrYAV"
      },
      "outputs": [],
      "source": [
        "#import the packages\n",
        "from sklearn.linear_model import Ridge\n",
        "\n",
        "ridge= Ridge(alpha=0.1)"
      ]
    },
    {
      "cell_type": "code",
      "execution_count": null,
      "metadata": {
        "id": "JH17y5yUrYKw"
      },
      "outputs": [],
      "source": [
        "#FIT THE MODEL\n",
        "ridge.fit(X_train,y_train)"
      ]
    },
    {
      "cell_type": "code",
      "execution_count": null,
      "metadata": {
        "id": "uQ-EHrmWrYN1"
      },
      "outputs": [],
      "source": [
        "#check the score\n",
        "ridge.score(X_train, y_train)"
      ]
    },
    {
      "cell_type": "code",
      "execution_count": null,
      "metadata": {
        "id": "pZyV1AJwrYRb"
      },
      "outputs": [],
      "source": [
        "#get the X_train and X-test value\n",
        "y_pred_train_ridge=ridge.predict(X_train)\n",
        "y_pred_test_ridge=ridge.predict(X_test)"
      ]
    },
    {
      "cell_type": "code",
      "source": [
        "# evaluating metrics\n",
        "#import the packages\n",
        "from sklearn.metrics import mean_squared_error\n",
        "#calculate MSE\n",
        "MSE  = mean_squared_error(y_test,y_pred_test_ridge)\n",
        "print(\"MSE :\" , MSE)\n",
        "#calculate RMSE\n",
        "RMSE = np.sqrt(MSE)\n",
        "print(\"RMSE :\" ,RMSE)\n",
        "#calculate r2 and adjusted r2\n",
        "r2_ridge_test = r2_score(y_test,y_pred_test_ridge)\n",
        "print(\"R2 :\" ,r2_ridge_test)\n",
        "print(\"Adjusted R2 : \",1-(1-r2_score(y_test,y_pred_test_ridge))*((X_test.shape[0]-1)/(X_test.shape[0]-X_test.shape[1]-1)))\n"
      ],
      "metadata": {
        "id": "vamVc-JOxNYZ"
      },
      "execution_count": null,
      "outputs": []
    },
    {
      "cell_type": "markdown",
      "metadata": {
        "id": "6rgAdHxvWNXg"
      },
      "source": [
        "# linear regression with elastic net"
      ]
    },
    {
      "cell_type": "code",
      "execution_count": null,
      "metadata": {
        "id": "tVG7W-D_rYW8"
      },
      "outputs": [],
      "source": [
        "#import the packages\n",
        "from sklearn.linear_model import ElasticNet\n",
        "#a * L1 + b * L2\n",
        "#alpha = a + b and l1_ratio = a / (a + b)\n",
        "elasticnet = ElasticNet(alpha=0.1, l1_ratio=0.5)"
      ]
    },
    {
      "cell_type": "code",
      "execution_count": null,
      "metadata": {
        "id": "CHtEDLAJVcv4"
      },
      "outputs": [],
      "source": [
        "#FIT THE MODEL\n",
        "elasticnet.fit(X_train,y_train)"
      ]
    },
    {
      "cell_type": "code",
      "execution_count": null,
      "metadata": {
        "id": "dsyQ_6djVczb"
      },
      "outputs": [],
      "source": [
        "#check the score\n",
        "elasticnet.score(X_train, y_train)"
      ]
    },
    {
      "cell_type": "code",
      "execution_count": null,
      "metadata": {
        "id": "52eCHEa5Vc3R"
      },
      "outputs": [],
      "source": [
        "#get the X_train and X-test value\n",
        "y_pred_train_en=elasticnet.predict(X_train)\n",
        "y_pred_test_en=elasticnet.predict(X_test)"
      ]
    },
    {
      "cell_type": "code",
      "execution_count": null,
      "metadata": {
        "id": "qLGx18hkVk8p"
      },
      "outputs": [],
      "source": [
        "#import the packages\n",
        "from sklearn.metrics import mean_squared_error\n",
        "#calculate MSE\n",
        "MSE_e= mean_squared_error((y_train), (y_pred_train_en))\n",
        "print(\"MSE :\",MSE_e)\n",
        "\n",
        "#calculate RMSE\n",
        "RMSE_e=np.sqrt(MSE_e)\n",
        "print(\"RMSE :\",RMSE_e)\n",
        "\n",
        "\n",
        "#calculate MAE\n",
        "MAE_e= mean_absolute_error(y_train, y_pred_train_en)\n",
        "print(\"MAE :\",MAE_e)\n",
        "\n",
        "\n",
        "#import the packages\n",
        "from sklearn.metrics import r2_score\n",
        "#calculate r2 and adjusted r2\n",
        "r2_e= r2_score(y_train, y_pred_train_en)\n",
        "print(\"R2 :\",r2_e)\n",
        "Adjusted_R2_e=(1-(1-r2_score(y_train, y_pred_train_en))*((X_test.shape[0]-1)/(X_test.shape[0]-X_test.shape[1]-1)) )\n",
        "print(\"Adjusted R2 :\",1-(1-r2_score(y_train, y_pred_train_en))*((X_test.shape[0]-1)/(X_test.shape[0]-X_test.shape[1]-1)) )\n"
      ]
    },
    {
      "cell_type": "code",
      "source": [],
      "metadata": {
        "id": "KfKT4uwD5ULi"
      },
      "execution_count": null,
      "outputs": []
    },
    {
      "cell_type": "markdown",
      "metadata": {
        "id": "gtnFcbHrWRVG"
      },
      "source": [
        "# **decision tree**"
      ]
    },
    {
      "cell_type": "code",
      "execution_count": null,
      "metadata": {
        "id": "L2OtH3VeWF_d"
      },
      "outputs": [],
      "source": [
        "# training model\n",
        "\n",
        "from sklearn.tree import DecisionTreeRegressor\n",
        "regressor = DecisionTreeRegressor(random_state=0)\n",
        "regressor.fit(X_train, y_train)"
      ]
    },
    {
      "cell_type": "code",
      "execution_count": null,
      "metadata": {
        "id": "cDtb-40jWGJW"
      },
      "outputs": [],
      "source": [
        "Y_pred_train =regressor.predict(X_train)\n",
        "Y_pred_train"
      ]
    },
    {
      "cell_type": "code",
      "source": [
        "Y_pred_test = regressor.predict(X_test)\n",
        "Y_pred_test"
      ],
      "metadata": {
        "id": "8BQQX_BXy49B"
      },
      "execution_count": null,
      "outputs": []
    },
    {
      "cell_type": "code",
      "source": [
        "r2_score(Y_pred_train,y_train)"
      ],
      "metadata": {
        "id": "AsEsbHjAy7Rt"
      },
      "execution_count": null,
      "outputs": []
    },
    {
      "cell_type": "code",
      "source": [
        "DT = r2_score(Y_pred_test,y_test)\n",
        "DT"
      ],
      "metadata": {
        "id": "jgycfwxjy9gT"
      },
      "execution_count": null,
      "outputs": []
    },
    {
      "cell_type": "markdown",
      "source": [
        "**decision tree with gridsearch cv**"
      ],
      "metadata": {
        "id": "1eWR4IPZmiVv"
      }
    },
    {
      "cell_type": "code",
      "source": [
        "# Tunning the hyper parameters with GridSearchCV\n",
        "param = {'max_depth' : [1,4,5,6,7,10,15,20,8]}\n",
        "\n",
        "regressor_gs_cv =GridSearchCV(regressor ,param,scoring='r2',cv=5)\n",
        "regressor_gs_cv.fit(X_train,y_train)"
      ],
      "metadata": {
        "id": "aofRUUYgy_sP"
      },
      "execution_count": null,
      "outputs": []
    },
    {
      "cell_type": "code",
      "source": [
        "#looking at the best estimator\n",
        "regressor_gs_cv.best_estimator_"
      ],
      "metadata": {
        "id": "hMhoJovJzBve"
      },
      "execution_count": null,
      "outputs": []
    },
    {
      "cell_type": "code",
      "source": [
        "#checking the score with best parameters\n",
        "DT_with_cv = regressor_gs_cv.score(X_test,y_test)\n",
        "DT_with_cv"
      ],
      "metadata": {
        "id": "xZwu9jMVzB5f"
      },
      "execution_count": null,
      "outputs": []
    },
    {
      "cell_type": "code",
      "source": [
        "print(f'The r2 score of decision tree is {r2_score(Y_pred_test,y_test)}')\n",
        "\n",
        "print(f'the r2 score of decision tree with hyper perameteres tunning is {regressor_gs_cv.score(X_test,y_test)} ')\n"
      ],
      "metadata": {
        "id": "lXIkVmr2zHS0"
      },
      "execution_count": null,
      "outputs": []
    },
    {
      "cell_type": "code",
      "execution_count": null,
      "metadata": {
        "id": "V8YpobZbXFI0"
      },
      "outputs": [],
      "source": []
    },
    {
      "cell_type": "markdown",
      "metadata": {
        "id": "IMhFAsWPXtCB"
      },
      "source": [
        "# Random ForestRegressor with GridSearchCV"
      ]
    },
    {
      "cell_type": "code",
      "execution_count": null,
      "metadata": {
        "id": "tTLOey1XXFSF"
      },
      "outputs": [],
      "source": [
        "from sklearn.ensemble import RandomForestRegressor"
      ]
    },
    {
      "cell_type": "code",
      "source": [
        "\n",
        "#implementing the model\n",
        "rf_reg = RandomForestRegressor(n_estimators = 1000, random_state=5)\n",
        "#training the model\n",
        "rf_reg.fit(X_train, y_train)\n",
        "#defining the predicted variables\n",
        "pred_train = rf_reg.predict(X_train)\n",
        "pred_test = rf_reg.predict(X_test)\n",
        "MSE_train = mean_squared_error(y_train, pred_train)\n",
        "print(f'MSE= {MSE_train}')\n",
        "\n",
        "RMSE_train = np.sqrt(MSE_train)\n",
        "print(f'RMSE= {RMSE_train}')\n",
        "\n",
        "R2_Score_train = r2_score(y_train, pred_train)\n",
        "print(f'R2_Score_train= {R2_Score_train}')\n",
        "\n",
        "MSE_test = mean_squared_error(y_test, pred_test)\n",
        "print(f'MSE= {MSE_test}')\n",
        "\n",
        "RMSE_test = np.sqrt(MSE_test)\n",
        "print(f'RMSE= {RMSE_test}')\n",
        "R2_Score_test = r2_score(y_test, pred_test)\n",
        "print(f'R2_Score_test= {R2_Score_test}')"
      ],
      "metadata": {
        "id": "k8hUpiyZMET4"
      },
      "execution_count": null,
      "outputs": []
    },
    {
      "cell_type": "code",
      "source": [
        "#ploting the outputs\n",
        "plt.figure(figsize=(12, 5))\n",
        "sns.regplot(y_train*y_train, pred_train*pred_train)\n",
        "plt.title('Visualizing the predicted and the actual variables with Random Forest Regeression', size=16)\n",
        "plt.xlabel('Rented Bike Count', size=14)\n",
        "plt.show()"
      ],
      "metadata": {
        "id": "Tjv6hLTOMEe_"
      },
      "execution_count": null,
      "outputs": []
    },
    {
      "cell_type": "markdown",
      "metadata": {
        "id": "9nwml_fIYKCT"
      },
      "source": [
        "# **SVR using grid searchcv**\n"
      ]
    },
    {
      "cell_type": "code",
      "execution_count": null,
      "metadata": {
        "id": "H8xlQlG8YJB0"
      },
      "outputs": [],
      "source": [
        "from sklearn.svm import SVR"
      ]
    },
    {
      "cell_type": "code",
      "execution_count": null,
      "metadata": {
        "id": "A26jO2z2YJMG"
      },
      "outputs": [],
      "source": [
        "# selecting the values of SVR\n",
        "param = {'C' : [1,5,10],'degree' : [3,8],'coef0' : [0.01,10,0.5],'gamma' : ('auto','scale')},\n"
      ]
    },
    {
      "cell_type": "code",
      "execution_count": null,
      "metadata": {
        "id": "gQ9M2uEeYJPW"
      },
      "outputs": [],
      "source": [
        "#train the model\n",
        "modelsvr = SVR(kernel='rbf')\n",
        "grids = GridSearchCV(modelsvr,param,cv=3)\n",
        "grids.fit(X_train,y_train)"
      ]
    },
    {
      "cell_type": "code",
      "execution_count": null,
      "metadata": {
        "id": "l29ncJXTYJTs"
      },
      "outputs": [],
      "source": [
        "# predicting for both train and test\n",
        "y_pred_train3=grids.predict(X_train)\n",
        "y_pred_test3=grids.predict(X_test)"
      ]
    },
    {
      "cell_type": "code",
      "execution_count": null,
      "metadata": {
        "id": "_NcnGL9aYkHK"
      },
      "outputs": [],
      "source": [
        "# finding each of the metrics for training set\n",
        "\n",
        "print('The MAE of training set = ',mean_absolute_error(y_train, y_pred_train3))\n",
        "print('The MSE of training set = ',mean_squared_error(y_train, y_pred_train3))\n",
        "print('The R2_score of training set = ',r2_score(y_train, y_pred_train3))"
      ]
    },
    {
      "cell_type": "code",
      "execution_count": null,
      "metadata": {
        "id": "sqPIFYkEYkLS"
      },
      "outputs": [],
      "source": [
        "# finding each metrics for test set\n",
        "svr = r2_score(y_test, y_pred_test3)\n",
        "print('The MAE of test set = ',mean_absolute_error(y_test, y_pred_test3))\n",
        "print('The MSE of test set = ',mean_squared_error(y_test, y_pred_test3))\n",
        "print('The R2_score of test set = ',r2_score(y_test, y_pred_test3))"
      ]
    },
    {
      "cell_type": "markdown",
      "source": [
        "# Gradient Boosting Regressor with GridSearchCV"
      ],
      "metadata": {
        "id": "UAcsyvEj1OPD"
      }
    },
    {
      "cell_type": "code",
      "execution_count": null,
      "metadata": {
        "id": "IiXALNYoY0Tc"
      },
      "outputs": [],
      "source": [
        "# Number of trees\n",
        "n_estimators = [50,80,100]\n",
        "\n",
        "# Maximum depth of trees\n",
        "max_depth = [4,6,8]\n",
        "\n",
        "# Minimum number of samples required to split a node\n",
        "min_samples_split = [50,100,150]\n",
        "\n",
        "# Minimum number of samples required at each leaf node\n",
        "min_samples_leaf = [40,50]\n",
        "\n",
        "# HYperparameter Grid\n",
        "param_dict = {'n_estimators' : n_estimators,\n",
        "              'max_depth' : max_depth,\n",
        "              'min_samples_split' : min_samples_split,\n",
        "              'min_samples_leaf' : min_samples_leaf}"
      ]
    },
    {
      "cell_type": "code",
      "source": [
        "param_dict"
      ],
      "metadata": {
        "id": "pcIgSGMa2Ms-"
      },
      "execution_count": null,
      "outputs": []
    },
    {
      "cell_type": "code",
      "source": [
        "## Importing Gradient Boosting Regressor\n",
        "from sklearn.model_selection import GridSearchCV\n",
        "## Create an instance of the GradientBoostingRegressor\n",
        "gb_model = GradientBoostingRegressor()\n",
        "\n",
        "# Grid search\n",
        "gb_grid = GridSearchCV(estimator=gb_model,\n",
        "                       param_grid = param_dict,\n",
        "                       cv = 5, verbose=2)\n",
        "\n",
        "gb_model = gb_grid.fit(X_train,y_train)"
      ],
      "metadata": {
        "id": "ydoJO7Us2MxY"
      },
      "execution_count": null,
      "outputs": []
    },
    {
      "cell_type": "code",
      "source": [
        "gb_model.best_estimator_"
      ],
      "metadata": {
        "id": "AxdgLhr52Urg"
      },
      "execution_count": null,
      "outputs": []
    },
    {
      "cell_type": "code",
      "source": [
        "gb_optimal_model = gb_model.best_estimator_"
      ],
      "metadata": {
        "id": "sO5L0qcQ2UwP"
      },
      "execution_count": null,
      "outputs": []
    },
    {
      "cell_type": "code",
      "source": [
        "gb_model.best_params_"
      ],
      "metadata": {
        "id": "2we3XaIv2U0a"
      },
      "execution_count": null,
      "outputs": []
    },
    {
      "cell_type": "code",
      "source": [
        "# Making predictions on train and test data\n",
        "\n",
        "y_pred_train_g_g = gb_optimal_model.predict(X_train)\n",
        "y_pred_g_g= gb_optimal_model.predict(X_test)"
      ],
      "metadata": {
        "id": "FnA1Ep3X2b_P"
      },
      "execution_count": null,
      "outputs": []
    },
    {
      "cell_type": "code",
      "source": [
        "r2_score(y_train, y_pred_train_g_g)"
      ],
      "metadata": {
        "id": "PptjL7gT2cId"
      },
      "execution_count": null,
      "outputs": []
    },
    {
      "cell_type": "code",
      "source": [
        "gradient=r2_score(y_test, y_pred_g_g)\n",
        "gradient"
      ],
      "metadata": {
        "id": "tgxq_VPt2cQG"
      },
      "execution_count": null,
      "outputs": []
    },
    {
      "cell_type": "code",
      "source": [
        "#visualizing the predictions\n",
        "sns.scatterplot(x=y_pred_g_g,y=y_test)\n",
        "plt.title('Predicted vs Actual - gradientBoosting')\n",
        "plt.ylabel('Predicted values')\n",
        "plt.xlabel('Actual Values')"
      ],
      "metadata": {
        "id": "P5JJqXzhCiCg"
      },
      "execution_count": null,
      "outputs": []
    },
    {
      "cell_type": "markdown",
      "source": [
        "**compaing the model with r2 value**"
      ],
      "metadata": {
        "id": "8S9ubXZ00APf"
      }
    },
    {
      "cell_type": "code",
      "source": [
        "models= ['Ridge_model','elasticnet','Decision_Tree_model','Decision_Tree_model_gridcv','random forest','SVR','gradient']\n",
        "R2_value= [r2_ridge_test,Adjusted_R2_e,DT,DT_with_cv,R2_Score_test,svr,gradient]\n",
        "compare_models = pd.DataFrame([R2_value],columns=models,index =['r2_value'])\n",
        "compare_models"
      ],
      "metadata": {
        "id": "GJTn7WtaURgV"
      },
      "execution_count": null,
      "outputs": []
    },
    {
      "cell_type": "markdown",
      "source": [
        "**Conclusion :**"
      ],
      "metadata": {
        "id": "Fef4YK9jK32o"
      }
    },
    {
      "cell_type": "markdown",
      "source": [
        "![image.png](data:image/png;base64,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)"
      ],
      "metadata": {
        "id": "wiAUaxyNK6Yv"
      }
    }
  ],
  "metadata": {
    "colab": {
      "provenance": [],
      "private_outputs": true,
      "include_colab_link": true
    },
    "kernelspec": {
      "display_name": "Python 3",
      "language": "python",
      "name": "python3"
    },
    "language_info": {
      "codemirror_mode": {
        "name": "ipython",
        "version": 3
      },
      "file_extension": ".py",
      "mimetype": "text/x-python",
      "name": "python",
      "nbconvert_exporter": "python",
      "pygments_lexer": "ipython3",
      "version": "3.6.6"
    },
    "accelerator": "GPU"
  },
  "nbformat": 4,
  "nbformat_minor": 0
}